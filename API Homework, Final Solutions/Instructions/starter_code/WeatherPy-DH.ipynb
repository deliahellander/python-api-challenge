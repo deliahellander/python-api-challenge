{
 "cells": [
  {
   "cell_type": "markdown",
   "metadata": {},
   "source": [
    "# WeatherPy\n",
    "----\n",
    "\n",
    "3 Trends:\n",
    "1. The first may be obvious, but the first scatterplot shows that max temperature of a city varies based on latitiude. More specifically, max tempurature is the greatest closest to a latitude magnitude of 0. Max temperature is the lowest with the magnitude of latitude increases. \n",
    "2. There is a positive correlation between humidity and latitude in the northern hemisphere.  As the latitude increases, the humidity increases. \n",
    "3. In the linear regression view, it is clear that cloudiness does not depend on hemisphere does not have a strong correlation with latitude either way."
   ]
  },
  {
   "cell_type": "code",
   "execution_count": 1,
   "metadata": {
    "scrolled": true
   },
   "outputs": [],
   "source": [
    "# Dependencies and Setup\n",
    "import matplotlib.pyplot as plt\n",
    "import pandas as pd\n",
    "import numpy as np\n",
    "import requests\n",
    "import time\n",
    "from scipy.stats import linregress\n",
    "import json\n",
    "\n",
    "# Import API key\n",
    "from api_keys import weather_api_key\n",
    "\n",
    "# Incorporated citipy to determine city based on latitude and longitude\n",
    "from citipy import citipy\n",
    "\n",
    "# Output File (CSV)\n",
    "output_data_file = \"output_data/cities.csv\"\n",
    "\n",
    "# Range of latitudes and longitudes\n",
    "lat_range = (-90, 90)\n",
    "lng_range = (-180, 180)"
   ]
  },
  {
   "cell_type": "markdown",
   "metadata": {},
   "source": [
    "## Generate Cities List"
   ]
  },
  {
   "cell_type": "code",
   "execution_count": 2,
   "metadata": {},
   "outputs": [
    {
     "name": "stdout",
     "output_type": "stream",
     "text": [
      "\n"
     ]
    }
   ],
   "source": [
    "# List for holding lat_lngs and cities\n",
    "lat_lngs = []\n",
    "cities = []\n",
    "\n",
    "# Create a set of random lat and lng combinations\n",
    "lats = np.random.uniform(lat_range[0], lat_range[1], size=1500)\n",
    "lngs = np.random.uniform(lng_range[0], lng_range[1], size=1500)\n",
    "lat_lngs = zip(lats, lngs)\n",
    "\n",
    "# Identify nearest city for each lat, lng combination\n",
    "for lat_lng in lat_lngs:\n",
    "    city = citipy.nearest_city(lat_lng[0], lat_lng[1]).city_name\n",
    "    \n",
    "    # If the city is unique, then add it to a our cities list\n",
    "    if city not in cities:\n",
    "        cities.append(city)\n",
    "\n",
    "# Print the city count to confirm sufficient count\n",
    "len(cities)\n",
    "print()"
   ]
  },
  {
   "cell_type": "markdown",
   "metadata": {},
   "source": [
    "## Perform API Calls\n",
    "* Perform a weather check on each city using a series of successive API calls.\n",
    "* Include a print log of each city as it'sbeing processed (with the city number and city name).\n"
   ]
  },
  {
   "cell_type": "code",
   "execution_count": 3,
   "metadata": {
    "scrolled": true
   },
   "outputs": [
    {
     "name": "stdout",
     "output_type": "stream",
     "text": [
      "Beginning Data Retrieval\n",
      "----------------------------------------\n",
      "Processing Record 1 | Bredasdorp\n",
      "Processing Record 2 | Kiryat Gat\n",
      "Processing Record 3 | Albany\n",
      "Processing Record 4 | Punta Arenas\n",
      "Processing Record 5 | Ekhabi\n",
      "City not found.\n",
      "Processing Record 6 | Rikitea\n",
      "Processing Record 7 | Kavaratti\n",
      "Processing Record 8 | Butaritari\n",
      "Processing Record 9 | Dubbo\n",
      "City not found.\n",
      "Processing Record 10 | Hermanus\n",
      "Processing Record 11 | Saint-Philippe\n",
      "Processing Record 12 | Korla\n",
      "Processing Record 13 | Iranshahr\n",
      "Processing Record 14 | Ejea de los Caballeros\n",
      "Processing Record 15 | Ushuaia\n",
      "City not found.\n",
      "Processing Record 16 | Mēga\n",
      "Processing Record 17 | Cabo San Lucas\n",
      "Processing Record 18 | Barrow\n",
      "Processing Record 19 | Homer\n",
      "Processing Record 20 | Kathu\n",
      "Processing Record 21 | Mataura\n",
      "Processing Record 22 | Lebu\n",
      "Processing Record 23 | Ilulissat\n",
      "City not found.\n",
      "Processing Record 24 | Cape Town\n",
      "Processing Record 25 | Dunmore Town\n",
      "Processing Record 26 | Balad\n",
      "Processing Record 27 | Saskylakh\n",
      "Processing Record 28 | Puerto Ayora\n",
      "Processing Record 29 | Airai\n",
      "Processing Record 30 | Neyshabur\n",
      "City not found.\n",
      "Processing Record 31 | Tuktoyaktuk\n",
      "Processing Record 32 | Lábrea\n",
      "Processing Record 33 | Vanimo\n",
      "Processing Record 34 | Atuona\n",
      "Processing Record 35 | Castro\n",
      "Processing Record 36 | Iqaluit\n",
      "Processing Record 37 | Severo-Yeniseyskiy\n",
      "Processing Record 38 | Tiksi\n",
      "Processing Record 39 | El Salvador\n",
      "Processing Record 40 | Chokurdakh\n",
      "Processing Record 41 | Port Elizabeth\n",
      "Processing Record 42 | Bandarbeyla\n",
      "Processing Record 43 | Mahébourg\n",
      "Processing Record 44 | Verkhnyaya Inta\n",
      "Processing Record 45 | East London\n",
      "Processing Record 46 | ‘Ewa Beach\n",
      "Processing Record 47 | Havøysund\n",
      "Processing Record 48 | Port Alfred\n",
      "Processing Record 49 | Busselton\n",
      "Processing Record 50 | Vaini\n",
      "Processing Record 51 | Kencong\n",
      "Processing Record 52 | Auki\n",
      "Processing Record 53 | Verāval\n",
      "Processing Record 54 | Berlevåg\n",
      "Processing Record 55 | Felipe Carrillo Puerto\n",
      "Processing Record 56 | Schwieberdingen\n",
      "Processing Record 57 | Batticaloa\n",
      "Processing Record 58 | Morgantown\n",
      "Processing Record 59 | Chui\n",
      "Processing Record 60 | Nová Včelnice\n",
      "Processing Record 61 | Moroto\n",
      "Processing Record 62 | Honningsvåg\n",
      "Processing Record 63 | Alofi\n",
      "Processing Record 64 | Władysławowo\n",
      "Processing Record 65 | Leningradskiy\n",
      "Processing Record 66 | Egvekinot\n",
      "Processing Record 67 | Namatanai\n",
      "Processing Record 68 | Shimokizukuri\n",
      "Processing Record 69 | Jamestown\n",
      "Processing Record 70 | Puerto Carreño\n",
      "Processing Record 71 | Hithadhoo\n",
      "Processing Record 72 | Port-Cartier\n",
      "Processing Record 73 | Alyangula\n",
      "Processing Record 74 | Pandan\n",
      "Processing Record 75 | Ponta do Sol\n",
      "Processing Record 76 | Lac du Bonnet\n",
      "Processing Record 77 | Avarua\n",
      "Processing Record 78 | Yellowknife\n",
      "Processing Record 79 | Quatre Cocos\n",
      "Processing Record 80 | Nhulunbuy\n",
      "Processing Record 81 | Northam\n",
      "Processing Record 82 | Kerkini\n",
      "Processing Record 83 | Lola\n",
      "Processing Record 84 | Porto-Novo\n",
      "Processing Record 85 | Bayeux\n",
      "Processing Record 86 | Bluff\n",
      "City not found.\n",
      "Processing Record 87 | Nome\n",
      "Processing Record 88 | Carnarvon\n",
      "Processing Record 89 | Enshi\n",
      "City not found.\n",
      "Processing Record 90 | Uray\n",
      "Processing Record 91 | Dingle\n",
      "Processing Record 92 | Nikolskoye\n",
      "Processing Record 93 | Hayden\n",
      "Processing Record 94 | Humberto de Campos\n",
      "Processing Record 95 | Talnakh\n",
      "City not found.\n",
      "Processing Record 96 | Arraial do Cabo\n",
      "Processing Record 97 | Karratha\n",
      "Processing Record 98 | Belyy Yar\n",
      "Processing Record 99 | Amazar\n",
      "Processing Record 100 | Kapaa\n",
      "Processing Record 101 | Narsaq\n",
      "Processing Record 102 | Soyo\n",
      "Processing Record 103 | Kutum\n",
      "Processing Record 104 | Melo\n",
      "Processing Record 105 | Lakatoro\n",
      "Processing Record 106 | Te Anau\n",
      "Processing Record 107 | San Quintín\n",
      "Processing Record 108 | Griffith\n",
      "Processing Record 109 | Ribeira Grande\n",
      "Processing Record 110 | Mandalgovi\n",
      "Processing Record 111 | Kaitangata\n",
      "Processing Record 112 | Songjianghe\n",
      "City not found.\n",
      "Processing Record 113 | Khatanga\n",
      "Processing Record 114 | Benalla\n",
      "Processing Record 115 | Port Moresby\n",
      "Processing Record 116 | Noumea\n",
      "Processing Record 117 | Ørje\n",
      "Processing Record 118 | Cidreira\n",
      "Processing Record 119 | Meulaboh\n",
      "Processing Record 120 | Bambous Virieux\n",
      "Processing Record 121 | Esperance\n",
      "Processing Record 122 | Provideniya\n",
      "Processing Record 123 | Cayenne\n",
      "Processing Record 124 | Tigil'\n",
      "Processing Record 125 | Atar\n",
      "Processing Record 126 | Lüderitz\n",
      "Processing Record 127 | Hofn\n",
      "City not found.\n",
      "Processing Record 128 | Sept-Îles\n",
      "Processing Record 129 | Obo\n",
      "Processing Record 130 | Upernavik\n",
      "Processing Record 131 | Grand Forks\n",
      "City not found.\n",
      "Processing Record 132 | Isangel\n",
      "Processing Record 133 | Nuevitas\n",
      "Processing Record 134 | Touros\n",
      "Processing Record 135 | Aleksandrov Gay\n",
      "Processing Record 136 | Saint George\n",
      "Processing Record 137 | Pevek\n",
      "Processing Record 138 | San Miguel de Tucumán\n",
      "Processing Record 139 | Kyren\n",
      "City not found.\n",
      "Processing Record 140 | Hobart\n",
      "Processing Record 141 | New Norfolk\n",
      "Processing Record 142 | Dikson\n",
      "Processing Record 143 | Flinders\n",
      "City not found.\n",
      "Processing Record 144 | Simao\n",
      "Processing Record 145 | Mar del Plata\n",
      "Processing Record 146 | Alice Springs\n",
      "Processing Record 147 | Karoi\n",
      "Processing Record 148 | Rawson\n",
      "Processing Record 149 | George Town\n",
      "City not found.\n",
      "Processing Record 150 | Manta\n",
      "Processing Record 151 | San Jerónimo\n",
      "Processing Record 152 | Mehamn\n",
      "Processing Record 153 | Mtwara\n",
      "Processing Record 154 | Vavuniya\n",
      "Processing Record 155 | Bullhead City\n",
      "Processing Record 156 | Nieuw Amsterdam\n",
      "City not found.\n",
      "Processing Record 157 | Ziro\n",
      "Processing Record 158 | Njeru\n",
      "Processing Record 159 | Nanortalik\n",
      "Processing Record 160 | Samarai\n",
      "City not found.\n",
      "Processing Record 161 | Handan\n",
      "Processing Record 162 | Vao\n",
      "City not found.\n",
      "Processing Record 163 | Semporna\n",
      "Processing Record 164 | Codrington\n",
      "City not found.\n",
      "Processing Record 165 | Tanabe\n",
      "City not found.\n",
      "Processing Record 166 | Nacala\n",
      "Processing Record 167 | Vieste\n",
      "Processing Record 168 | Azle\n",
      "Processing Record 169 | Majene\n",
      "Processing Record 170 | Saint-Augustin\n",
      "Processing Record 171 | Asnæs\n",
      "Processing Record 172 | Qaanaaq\n",
      "Processing Record 173 | Guerrero Negro\n",
      "Processing Record 174 | Salalah\n",
      "Processing Record 175 | Ocós\n",
      "Processing Record 176 | Tegul'det\n",
      "Processing Record 177 | Assiut\n",
      "Processing Record 178 | Baykit\n",
      "Processing Record 179 | Dibulla\n",
      "Processing Record 180 | Khovd\n",
      "Processing Record 181 | Tasiilaq\n",
      "Processing Record 182 | Kavieng\n",
      "Processing Record 183 | Waddān\n",
      "Processing Record 184 | Thompson\n",
      "Processing Record 185 | Palora\n",
      "Processing Record 186 | Najrān\n",
      "Processing Record 187 | Souillac\n",
      "Processing Record 188 | Roebourne\n",
      "Processing Record 189 | Yar-Sale\n",
      "Processing Record 190 | Vila Velha\n",
      "Processing Record 191 | Beringovskiy\n",
      "City not found.\n",
      "Processing Record 192 | Nioro\n",
      "City not found.\n",
      "Processing Record 193 | Goderich\n",
      "Processing Record 194 | Pangkalanbuun\n",
      "Processing Record 195 | Zhigansk\n",
      "Processing Record 196 | Mangla\n",
      "Processing Record 197 | Saint Paul Harbor\n",
      "City not found.\n",
      "Processing Record 198 | Makakilo City\n",
      "Processing Record 199 | Hasaki\n",
      "Processing Record 200 | Geraldton\n",
      "City not found.\n",
      "City not found.\n",
      "Processing Record 201 | Avera\n",
      "Processing Record 202 | Bogovarovo\n",
      "Processing Record 203 | Makkah al Mukarramah\n",
      "Processing Record 204 | Muriwai Beach\n",
      "Processing Record 205 | Richards Bay\n",
      "Processing Record 206 | Iguape\n",
      "Processing Record 207 | Lac-Mégantic\n",
      "Processing Record 208 | Taoudenni\n",
      "Processing Record 209 | Coquimbo\n",
      "Processing Record 210 | Praia\n",
      "Processing Record 211 | Deputatsky\n",
      "Processing Record 212 | Shambu\n",
      "Processing Record 213 | Pemangkat\n",
      "Processing Record 214 | Longyearbyen\n",
      "Processing Record 215 | Hamilton\n",
      "Processing Record 216 | Gribanovskiy\n",
      "Processing Record 217 | Hastings\n",
      "Processing Record 218 | Varaždin\n",
      "Processing Record 219 | Udachny\n",
      "Processing Record 220 | Bocos\n",
      "Processing Record 221 | Pozo Colorado\n",
      "Processing Record 222 | Bundaberg\n",
      "Processing Record 223 | Fortuna\n",
      "Processing Record 224 | Hilo\n",
      "Processing Record 225 | Preobrazheniye\n",
      "Processing Record 226 | Orocué\n",
      "Processing Record 227 | Okhotsk\n",
      "Processing Record 228 | Pangnirtung\n",
      "Processing Record 229 | Presidente Epitácio\n",
      "Processing Record 230 | Ugoofaaru\n",
      "Processing Record 231 | Pisco\n",
      "Processing Record 232 | Sambava\n",
      "City not found.\n",
      "Processing Record 233 | Byron Bay\n"
     ]
    },
    {
     "name": "stdout",
     "output_type": "stream",
     "text": [
      "Processing Record 234 | Phalombe\n",
      "Processing Record 235 | Kargasok\n",
      "Processing Record 236 | Elverum\n",
      "Processing Record 237 | Gilbués\n",
      "Processing Record 238 | Bethel\n",
      "Processing Record 239 | Faanui\n",
      "Processing Record 240 | Dakar\n",
      "City not found.\n",
      "Processing Record 241 | Qaqortoq\n",
      "Processing Record 242 | Bani Walid\n",
      "Processing Record 243 | Barranca\n",
      "Processing Record 244 | Asti\n",
      "Processing Record 245 | São João da Barra\n",
      "Processing Record 246 | Rosario\n",
      "Processing Record 247 | Nuuk\n",
      "Processing Record 248 | Uspenka\n",
      "Processing Record 249 | Severo-Kuril'sk\n",
      "Processing Record 250 | Marsá Maţrūḩ\n",
      "Processing Record 251 | Olafsvik\n",
      "Processing Record 252 | Yaan\n",
      "Processing Record 253 | Kumul\n",
      "Processing Record 254 | Polazna\n",
      "Processing Record 255 | Husavik\n",
      "Processing Record 256 | Portland\n",
      "Processing Record 257 | Charlestown\n",
      "Processing Record 258 | Russell\n",
      "Processing Record 259 | Thinadhoo\n",
      "Processing Record 260 | Tanah Merah\n",
      "Processing Record 261 | Behshahr\n",
      "Processing Record 262 | Opuwo\n",
      "Processing Record 263 | Nishihara\n",
      "Processing Record 264 | Usinsk\n",
      "Processing Record 265 | Koygorodok\n",
      "Processing Record 266 | Port Hardy\n",
      "Processing Record 267 | Klaksvík\n",
      "Processing Record 268 | Shirokiy\n",
      "Processing Record 269 | Itarema\n",
      "Processing Record 270 | Curvelo\n",
      "Processing Record 271 | Katsuura\n",
      "Processing Record 272 | Camacha\n",
      "City not found.\n",
      "Processing Record 273 | Tūkrah\n",
      "Processing Record 274 | Laguna\n",
      "Processing Record 275 | Matagami\n",
      "City not found.\n",
      "Processing Record 276 | Iskateley\n",
      "Processing Record 277 | Östersund\n",
      "Processing Record 278 | Marawi\n",
      "Processing Record 279 | Kapit\n",
      "Processing Record 280 | Los Llanos de Aridane\n",
      "Processing Record 281 | Comodoro Rivadavia\n",
      "Processing Record 282 | Ancud\n",
      "Processing Record 283 | Hoquiam\n",
      "Processing Record 284 | Daru\n",
      "Processing Record 285 | Hokitika\n",
      "Processing Record 286 | Raudeberg\n",
      "Processing Record 287 | Mount Gambier\n",
      "City not found.\n",
      "Processing Record 288 | Ostrovnoy\n",
      "Processing Record 289 | Marabu\n",
      "Processing Record 290 | Lolodorf\n",
      "Processing Record 291 | Douentza\n",
      "Processing Record 292 | Katrineholm\n",
      "Processing Record 293 | Khuzdar\n",
      "Processing Record 294 | Antofagasta\n",
      "Processing Record 295 | Mookane\n",
      "Processing Record 296 | Sayansk\n",
      "Processing Record 297 | Ulaangom\n",
      "Processing Record 298 | Churapcha\n",
      "Processing Record 299 | Pacific Grove\n",
      "Processing Record 300 | Lompoc\n",
      "Processing Record 301 | College\n",
      "Processing Record 302 | Cherskiy\n",
      "City not found.\n",
      "Processing Record 303 | Kruisfontein\n",
      "Processing Record 304 | Brae\n",
      "Processing Record 305 | Seoul\n",
      "Processing Record 306 | Broome\n",
      "Processing Record 307 | Amalāpuram\n",
      "Processing Record 308 | Chililabombwe\n",
      "Processing Record 309 | Grootfontein\n",
      "Processing Record 310 | Upington\n",
      "Processing Record 311 | Carbonia\n",
      "City not found.\n",
      "City not found.\n",
      "Processing Record 312 | Nampula\n",
      "Processing Record 313 | Lorengau\n",
      "Processing Record 314 | Kahului\n",
      "Processing Record 315 | Verkh-Usugli\n",
      "Processing Record 316 | Aklavik\n",
      "Processing Record 317 | Bjørkelangen\n",
      "Processing Record 318 | Port Lincoln\n",
      "Processing Record 319 | Millbrook\n",
      "Processing Record 320 | Ponta Delgada\n",
      "Processing Record 321 | Tucumã\n",
      "Processing Record 322 | Malakal\n",
      "Processing Record 323 | Shimoda\n",
      "Processing Record 324 | Aitape\n",
      "Processing Record 325 | Nyurba\n",
      "Processing Record 326 | Vanavara\n",
      "Processing Record 327 | Beipiao\n",
      "Processing Record 328 | Bagacay\n",
      "Processing Record 329 | Poum\n",
      "Processing Record 330 | Lagoa\n",
      "Processing Record 331 | Bay Roberts\n",
      "Processing Record 332 | São Filipe\n",
      "Processing Record 333 | Prado\n",
      "Processing Record 334 | Mogocha\n",
      "Processing Record 335 | Iroquois Falls\n",
      "Processing Record 336 | New Richmond\n",
      "Processing Record 337 | Rybnaya Sloboda\n",
      "Processing Record 338 | Broken Hill\n",
      "Processing Record 339 | Boden\n",
      "Processing Record 340 | Sorong\n",
      "Processing Record 341 | Aksu\n",
      "Processing Record 342 | Angoche\n",
      "Processing Record 343 | Xinqing\n",
      "Processing Record 344 | Antalaha\n",
      "Processing Record 345 | Manaus\n",
      "Processing Record 346 | Dunedin\n",
      "Processing Record 347 | Shreveport\n",
      "Processing Record 348 | Tamiahua\n",
      "City not found.\n",
      "Processing Record 349 | Saldanha\n",
      "Processing Record 350 | Yuncheng\n",
      "Processing Record 351 | Panzhihua\n",
      "Processing Record 352 | Muzhi\n",
      "Processing Record 353 | Kalmunai\n",
      "Processing Record 354 | Mareeba\n",
      "Processing Record 355 | Ust'-Omchug\n",
      "Processing Record 356 | Road Town\n",
      "Processing Record 357 | Naze\n",
      "Processing Record 358 | Gunjur\n",
      "Processing Record 359 | Birao\n",
      "Processing Record 360 | Hong Kong\n",
      "City not found.\n",
      "Processing Record 361 | Padang\n",
      "Processing Record 362 | Ninove\n",
      "Processing Record 363 | Tocopilla\n",
      "Processing Record 364 | Tahe\n",
      "Processing Record 365 | Shedok\n",
      "Processing Record 366 | Dhanwār\n",
      "Processing Record 367 | Moose Factory\n",
      "Processing Record 368 | Khandyga\n",
      "Processing Record 369 | Bealanana\n",
      "Processing Record 370 | San Miguel de Cozumel\n",
      "Processing Record 371 | Lengshuijiang\n",
      "Processing Record 372 | Chivay\n",
      "Processing Record 373 | Novy Urengoy\n",
      "Processing Record 374 | Cedral\n",
      "Processing Record 375 | Kudahuvadhoo\n",
      "Processing Record 376 | North Bend\n",
      "Processing Record 377 | Savannakhet\n",
      "Processing Record 378 | Bowen\n",
      "Processing Record 379 | Zhezkazgan\n",
      "Processing Record 380 | Muros\n",
      "Processing Record 381 | Clyde River\n",
      "Processing Record 382 | Sidi Ali\n",
      "Processing Record 383 | Constitución\n",
      "Processing Record 384 | Sukumo\n",
      "Processing Record 385 | Krasnosel'kup\n",
      "Processing Record 386 | Norrtälje\n",
      "Processing Record 387 | Ossora\n",
      "City not found.\n",
      "Processing Record 388 | Seymchan\n",
      "Processing Record 389 | Lithakia\n",
      "Processing Record 390 | Addanki\n",
      "Processing Record 391 | Tandil\n",
      "Processing Record 392 | Tautira\n",
      "Processing Record 393 | Portsmouth\n",
      "Processing Record 394 | Trencin\n",
      "Processing Record 395 | Usakos\n",
      "Processing Record 396 | Port Augusta\n",
      "Processing Record 397 | Casper\n",
      "Processing Record 398 | Middletown\n",
      "Processing Record 399 | Point Fortin\n",
      "Processing Record 400 | Yulara\n",
      "Processing Record 401 | Atherton\n",
      "Processing Record 402 | Katangli\n",
      "Processing Record 403 | Itaueira\n",
      "Processing Record 404 | Zaraza\n",
      "Processing Record 405 | Atyrau\n",
      "Processing Record 406 | Vallenar\n",
      "City not found.\n",
      "Processing Record 407 | Huarmey\n",
      "Processing Record 408 | Mayskiy\n",
      "Processing Record 409 | Torbay\n",
      "Processing Record 410 | Kangaatsiaq\n",
      "Processing Record 411 | Katherine\n",
      "Processing Record 412 | Mahon\n",
      "Processing Record 413 | Indramayu\n",
      "Processing Record 414 | Ust'-Ilimsk\n",
      "Processing Record 415 | Shelburne\n",
      "City not found.\n",
      "Processing Record 416 | Bereda\n",
      "Processing Record 417 | Forio\n",
      "Processing Record 418 | Jiazi\n",
      "Processing Record 419 | Merauke\n",
      "Processing Record 420 | Rincon\n",
      "Processing Record 421 | Kabare\n",
      "Processing Record 422 | Ndioum\n",
      "Processing Record 423 | Kohima\n",
      "City not found.\n",
      "Processing Record 424 | Amambai\n",
      "Processing Record 425 | Luena\n",
      "Processing Record 426 | Anadyr\n",
      "Processing Record 427 | Port Blair\n",
      "Processing Record 428 | Acapulco de Juárez\n",
      "Processing Record 429 | Port Hedland\n",
      "Processing Record 430 | Colares\n",
      "Processing Record 431 | Troitsko-Pechorsk\n",
      "City not found.\n",
      "Processing Record 432 | Lakinsk\n",
      "Processing Record 433 | Bilma\n",
      "Processing Record 434 | Wum\n",
      "Processing Record 435 | Lively\n",
      "Processing Record 436 | Lleida\n",
      "Processing Record 437 | Brønnøysund\n",
      "Processing Record 438 | Bengkulu\n",
      "Processing Record 439 | Muravlenko\n",
      "Processing Record 440 | Half Moon Bay\n",
      "Processing Record 441 | Maningrida\n",
      "Processing Record 442 | Yuli\n",
      "Processing Record 443 | Villa del Rosario\n",
      "Processing Record 444 | Khasan\n",
      "Processing Record 445 | Racine\n",
      "Processing Record 446 | Stilfontein\n",
      "Processing Record 447 | Kaeo\n",
      "Processing Record 448 | Grindavik\n",
      "Processing Record 449 | Salinópolis\n",
      "Processing Record 450 | Metro\n",
      "Processing Record 451 | Horasan\n",
      "Processing Record 452 | Obzor\n",
      "Processing Record 453 | Houston\n",
      "City not found.\n",
      "Processing Record 454 | Gönen\n",
      "Processing Record 455 | Saint-Honoré\n",
      "Processing Record 456 | Nizhniy Tsasuchey\n",
      "Processing Record 457 | Banjarmasin\n",
      "Processing Record 458 | Lovozero\n",
      "Processing Record 459 | Awjilah\n",
      "Processing Record 460 | Lubango\n",
      "Processing Record 461 | Haines Junction\n",
      "Processing Record 462 | Tupik\n",
      "Processing Record 463 | Ağdam\n",
      "Processing Record 464 | Ramsar\n",
      "Processing Record 465 | Alenquer\n",
      "Processing Record 466 | Tezu\n",
      "Processing Record 467 | Thurso\n",
      "Processing Record 468 | Necochea\n",
      "Processing Record 469 | Monywa\n",
      "Processing Record 470 | Mahajanga\n",
      "Processing Record 471 | Santa\n",
      "Processing Record 472 | Laredo\n",
      "Processing Record 473 | Angostura\n"
     ]
    },
    {
     "name": "stdout",
     "output_type": "stream",
     "text": [
      "Processing Record 474 | Mackay\n",
      "Processing Record 475 | Tuatapere\n",
      "City not found.\n",
      "Processing Record 476 | Alegrete\n",
      "Processing Record 477 | Porto Velho\n",
      "City not found.\n",
      "City not found.\n",
      "Processing Record 478 | Itārsi\n",
      "Processing Record 479 | Topaowan\n",
      "Processing Record 480 | Norman Wells\n",
      "Processing Record 481 | Sitka\n",
      "Processing Record 482 | Guarujá\n",
      "Processing Record 483 | Sisimiut\n",
      "City not found.\n",
      "Processing Record 484 | Bontang\n",
      "City not found.\n",
      "Processing Record 485 | Havre-St-Pierre\n",
      "Processing Record 486 | Piney Green\n",
      "Processing Record 487 | Mbarara\n",
      "Processing Record 488 | Bosaso\n",
      "Processing Record 489 | Chabahar\n",
      "Processing Record 490 | Nemuro\n",
      "Processing Record 491 | Ubari\n",
      "Processing Record 492 | Tabas\n",
      "City not found.\n",
      "Processing Record 493 | Fort Nelson\n",
      "City not found.\n",
      "Processing Record 494 | Southbridge\n",
      "City not found.\n",
      "Processing Record 495 | Mikhaylovka\n",
      "Processing Record 496 | Dorog\n",
      "Processing Record 497 | Mattru\n",
      "Processing Record 498 | Bilibino\n",
      "Processing Record 499 | Saint-Paul\n",
      "Processing Record 500 | Šalčininkai\n",
      "Processing Record 501 | Ukiah\n",
      "Processing Record 502 | Ulundi\n",
      "Processing Record 503 | Whittlesea\n",
      "Processing Record 504 | La Asuncion\n",
      "Processing Record 505 | Hua Hin\n",
      "Processing Record 506 | Port-Gentil\n",
      "Processing Record 507 | Kaura Namoda\n",
      "Processing Record 508 | Willowmore\n",
      "Processing Record 509 | Bongandanga\n",
      "Processing Record 510 | Margate\n",
      "Processing Record 511 | Hegang\n",
      "Processing Record 512 | Marzuq\n",
      "Processing Record 513 | Camopi\n",
      "Processing Record 514 | La Rioja\n",
      "Processing Record 515 | Srednekolymsk\n",
      "Processing Record 516 | Helena\n",
      "Processing Record 517 | Solnechnyy\n",
      "Processing Record 518 | Härnösand\n",
      "Processing Record 519 | St. George's\n",
      "Processing Record 520 | Włocławek\n",
      "Processing Record 521 | Glenwood Springs\n",
      "Processing Record 522 | Kathmandu\n",
      "Processing Record 523 | Kingaroy\n",
      "Processing Record 524 | Bathsheba\n",
      "Processing Record 525 | Ixtapa\n",
      "Processing Record 526 | Bozüyük\n",
      "Processing Record 527 | Mossamedes\n",
      "City not found.\n",
      "Processing Record 528 | Arlit\n",
      "Processing Record 529 | Yelovo\n",
      "Processing Record 530 | Nosy Varika\n",
      "Processing Record 531 | Nouadhibou\n",
      "Processing Record 532 | Fairbanks\n",
      "Processing Record 533 | Ormara\n",
      "Processing Record 534 | Yangi Marg`ilon\n",
      "Processing Record 535 | Aasiaat\n",
      "Processing Record 536 | Gogrial\n",
      "Processing Record 537 | Mabaruma\n",
      "City not found.\n",
      "Processing Record 538 | Philadelphia\n",
      "Processing Record 539 | Bafia\n",
      "City not found.\n",
      "Processing Record 540 | Xichang\n",
      "Processing Record 541 | Taltal\n",
      "Processing Record 542 | Hambantota\n",
      "Processing Record 543 | Rāzole\n",
      "Processing Record 544 | Sangar\n",
      "Processing Record 545 | Turukhansk\n",
      "Processing Record 546 | Timrå\n",
      "Processing Record 547 | San Patricio\n",
      "Processing Record 548 | Dongsheng\n",
      "Processing Record 549 | Bambamarca\n",
      "Processing Record 550 | Vestmannaeyjar\n",
      "Processing Record 551 | Xai-Xai\n",
      "Processing Record 552 | Trairi\n",
      "Processing Record 553 | Lafia\n",
      "Processing Record 554 | Departamento de Maldonado\n",
      "Processing Record 555 | Haimen\n",
      "Processing Record 556 | Dzaoudzi\n",
      "Processing Record 557 | Kaseda-shirakame\n",
      "Processing Record 558 | Edmonds\n",
      "Processing Record 559 | Sioux Lookout\n",
      "Processing Record 560 | Yārāda\n",
      "City not found.\n",
      "Processing Record 561 | Chittūr\n",
      "Processing Record 562 | Harlingen\n",
      "Processing Record 563 | Poros\n",
      "Processing Record 564 | Gornopravdinsk\n",
      "Processing Record 565 | Lodja\n",
      "Processing Record 566 | Sos'va\n",
      "Processing Record 567 | Praia\n",
      "Processing Record 568 | Whitehorse\n",
      "Processing Record 569 | Dhārchula\n",
      "Processing Record 570 | Karpogory\n",
      "Processing Record 571 | Killybegs\n",
      "Processing Record 572 | Vila Franca do Campo\n",
      "Processing Record 573 | Mongu\n",
      "----------------------------------\n",
      "Data Retrieval Complete\n",
      "----------------------------------\n"
     ]
    }
   ],
   "source": [
    "# API Call\n",
    "api_key = weather_api_key\n",
    "\n",
    "# Save config information\n",
    "#url = \"http://api.openweathermap.org/data/2.5/weather?\"\n",
    "test_cities = [\"jamestown\", \"ibra\"]\n",
    "\n",
    "# Build query URL\n",
    "#query_url = url + \"appid=\" + api_key + \"&q=\" + test_cities\n",
    "url = \"http://api.openweathermap.org/data/2.5/weather?units=Imperial&APPID=\" + api_key\n",
    "\n",
    "# empty lists to append the API data into lists \n",
    "city_ = []\n",
    "cloudiness = []\n",
    "country = []\n",
    "date = []\n",
    "humidity = []\n",
    "lat = []\n",
    "long = []\n",
    "max_temp = []\n",
    "wind_speed = []\n",
    "\n",
    "# Start the call counter \n",
    "record = 1\n",
    "\n",
    "# Header of list\n",
    "print(f\"Beginning Data Retrieval\")\n",
    "print(f\"----------------------------------------\")\n",
    "\n",
    "#Loop through the cities to obtain list information\n",
    "for city in cities:  \n",
    "    \n",
    "    # loop through cities to apend info\n",
    "    try: \n",
    "        response = requests.get(f\"{url}&q={city}\").json() \n",
    "        city_.append(response[\"name\"])\n",
    "        cloudiness.append(response[\"clouds\"][\"all\"])\n",
    "        country.append(response[\"sys\"][\"country\"])\n",
    "        date.append(response[\"dt\"])\n",
    "        humidity.append(response[\"main\"][\"humidity\"])\n",
    "        max_temp.append(response[\"main\"][\"temp_max\"])\n",
    "        lat.append(response[\"coord\"][\"lat\"])\n",
    "        long.append(response[\"coord\"][\"lon\"])\n",
    "        wind_speed.append(response[\"wind\"][\"speed\"])\n",
    "        city_record = response[\"name\"]\n",
    "        print(f\"Processing Record {record} | {city_record}\")\n",
    "        #print(f\"{url}&q={city}\")\n",
    "        # add 1 to the counter \n",
    "        \n",
    "        record= record + 1\n",
    "        \n",
    "        # wait 3 seconds to give api time to load\n",
    "        time.sleep(3)\n",
    "        \n",
    "    # If no record found \"skip\" to next call\n",
    "    except:\n",
    "        print(\"City not found.\")\n",
    "    continue\n",
    "\n",
    "# End log\n",
    "print(f\"----------------------------------\")\n",
    "print(f\"Data Retrieval Complete\")\n",
    "print(f\"----------------------------------\")"
   ]
  },
  {
   "cell_type": "markdown",
   "metadata": {},
   "source": [
    "## Convert Raw Data to DataFrame\n",
    "* Save as csv"
   ]
  },
  {
   "cell_type": "code",
   "execution_count": 6,
   "metadata": {},
   "outputs": [
    {
     "data": {
      "text/html": [
       "<div>\n",
       "<style scoped>\n",
       "    .dataframe tbody tr th:only-of-type {\n",
       "        vertical-align: middle;\n",
       "    }\n",
       "\n",
       "    .dataframe tbody tr th {\n",
       "        vertical-align: top;\n",
       "    }\n",
       "\n",
       "    .dataframe thead th {\n",
       "        text-align: right;\n",
       "    }\n",
       "</style>\n",
       "<table border=\"1\" class=\"dataframe\">\n",
       "  <thead>\n",
       "    <tr style=\"text-align: right;\">\n",
       "      <th></th>\n",
       "      <th>City</th>\n",
       "      <th>Country</th>\n",
       "      <th>Date</th>\n",
       "      <th>Latitude</th>\n",
       "      <th>Longitude</th>\n",
       "      <th>Max Temperature</th>\n",
       "      <th>Humidity</th>\n",
       "      <th>Cloudiness</th>\n",
       "      <th>Wind Speed</th>\n",
       "    </tr>\n",
       "  </thead>\n",
       "  <tbody>\n",
       "    <tr>\n",
       "      <th>0</th>\n",
       "      <td>Bredasdorp</td>\n",
       "      <td>ZA</td>\n",
       "      <td>1603033142</td>\n",
       "      <td>-34.53</td>\n",
       "      <td>20.04</td>\n",
       "      <td>69.80</td>\n",
       "      <td>52</td>\n",
       "      <td>59</td>\n",
       "      <td>13.87</td>\n",
       "    </tr>\n",
       "    <tr>\n",
       "      <th>1</th>\n",
       "      <td>Kiryat Gat</td>\n",
       "      <td>IL</td>\n",
       "      <td>1603033145</td>\n",
       "      <td>31.61</td>\n",
       "      <td>34.76</td>\n",
       "      <td>82.40</td>\n",
       "      <td>58</td>\n",
       "      <td>0</td>\n",
       "      <td>10.29</td>\n",
       "    </tr>\n",
       "    <tr>\n",
       "      <th>2</th>\n",
       "      <td>Albany</td>\n",
       "      <td>US</td>\n",
       "      <td>1603032871</td>\n",
       "      <td>42.60</td>\n",
       "      <td>-73.97</td>\n",
       "      <td>50.00</td>\n",
       "      <td>75</td>\n",
       "      <td>75</td>\n",
       "      <td>9.33</td>\n",
       "    </tr>\n",
       "    <tr>\n",
       "      <th>3</th>\n",
       "      <td>Punta Arenas</td>\n",
       "      <td>CL</td>\n",
       "      <td>1603033151</td>\n",
       "      <td>-53.15</td>\n",
       "      <td>-70.92</td>\n",
       "      <td>44.60</td>\n",
       "      <td>75</td>\n",
       "      <td>40</td>\n",
       "      <td>26.40</td>\n",
       "    </tr>\n",
       "    <tr>\n",
       "      <th>4</th>\n",
       "      <td>Ekhabi</td>\n",
       "      <td>RU</td>\n",
       "      <td>1603033155</td>\n",
       "      <td>53.51</td>\n",
       "      <td>142.97</td>\n",
       "      <td>35.28</td>\n",
       "      <td>93</td>\n",
       "      <td>96</td>\n",
       "      <td>23.58</td>\n",
       "    </tr>\n",
       "  </tbody>\n",
       "</table>\n",
       "</div>"
      ],
      "text/plain": [
       "           City Country        Date  Latitude  Longitude  Max Temperature  \\\n",
       "0    Bredasdorp      ZA  1603033142    -34.53      20.04            69.80   \n",
       "1    Kiryat Gat      IL  1603033145     31.61      34.76            82.40   \n",
       "2        Albany      US  1603032871     42.60     -73.97            50.00   \n",
       "3  Punta Arenas      CL  1603033151    -53.15     -70.92            44.60   \n",
       "4        Ekhabi      RU  1603033155     53.51     142.97            35.28   \n",
       "\n",
       "   Humidity  Cloudiness  Wind Speed  \n",
       "0        52          59       13.87  \n",
       "1        58           0       10.29  \n",
       "2        75          75        9.33  \n",
       "3        75          40       26.40  \n",
       "4        93          96       23.58  "
      ]
     },
     "execution_count": 6,
     "metadata": {},
     "output_type": "execute_result"
    }
   ],
   "source": [
    "# create dictionary\n",
    "weather_dict = {\"City\": city_,\"Country\": country,\"Date\": date,\"Latitude\": lat,\"Longitude\": long,\"Max Temperature\": max_temp,\"Humidity\": humidity,\"Cloudiness\": cloudiness,\"Wind Speed\": wind_speed}\n",
    "\n",
    "#create dataframe with dictionary info\n",
    "raw_data_df = pd.DataFrame(weather_dict)\n",
    "raw_data_df.head()"
   ]
  },
  {
   "cell_type": "code",
   "execution_count": 7,
   "metadata": {},
   "outputs": [],
   "source": [
    "# save df as csv\n",
    "raw_data_df.to_csv(\"../output_data/raw_data.csv\", index=False, header=True)"
   ]
  },
  {
   "cell_type": "markdown",
   "metadata": {},
   "source": [
    "## Plotting the Data\n",
    "* Use proper labeling of the plots using plot titles (including date of analysis) and axes labels.\n",
    "* Save the plotted figures as .pngs."
   ]
  },
  {
   "cell_type": "markdown",
   "metadata": {},
   "source": [
    "### Latitude vs. Temperature Plot"
   ]
  },
  {
   "cell_type": "code",
   "execution_count": 28,
   "metadata": {
    "scrolled": true
   },
   "outputs": [
    {
     "data": {
      "image/png": "[encoded data removed]",
      "text/plain": [
       "<Figure size 432x288 with 1 Axes>"
      ]
     },
     "metadata": {
      "needs_background": "light"
     },
     "output_type": "display_data"
    },
    {
     "name": "stdout",
     "output_type": "stream",
     "text": [
      "This code is assigning latitude to the x-values and max temp to the y-values and plotting\n",
      "a scatterplot to show the correlation between the two variables.  From the scatterplot it looks like\n",
      "there is significant correlation, the relationship functions like a bell curve\n"
     ]
    },
    {
     "data": {
      "text/plain": [
       "<Figure size 432x288 with 0 Axes>"
      ]
     },
     "metadata": {},
     "output_type": "display_data"
    }
   ],
   "source": [
    "# Create a Scatter Plot for temperature vs latitude\n",
    "today = time.strftime(\"%m/%d/%Y\")\n",
    "x_values = raw_data_df['Latitude']\n",
    "y_values = raw_data_df['Max Temperature']\n",
    "plt.scatter(x_values,y_values)\n",
    "plt.xlabel('Latitude')\n",
    "plt.ylabel('Max Temperature(F)')\n",
    "plt.title(f'Max Temperature(F) vs Latitude ({today})')\n",
    "plt.show()\n",
    "plt.savefig(\"../output_data/Fig1.png\")\n",
    "\n",
    "print(\"This code is assigning latitude to the x-values and max temp to the y-values and plotting\")\n",
    "print(\"a scatterplot to show the correlation between the two variables.  From the scatterplot it looks like\")\n",
    "print(\"there is significant correlation, the relationship functions like a bell curve\")"
   ]
  },
  {
   "cell_type": "markdown",
   "metadata": {},
   "source": [
    "### Latitude vs. Humidity Plot"
   ]
  },
  {
   "cell_type": "code",
   "execution_count": 29,
   "metadata": {},
   "outputs": [
    {
     "data": {
      "image/png": "[encoded data removed]",
      "text/plain": [
       "<Figure size 432x288 with 1 Axes>"
      ]
     },
     "metadata": {
      "needs_background": "light"
     },
     "output_type": "display_data"
    },
    {
     "name": "stdout",
     "output_type": "stream",
     "text": [
      "This code is assigning latitude to the x-values and humidity to the y-values and plotting\n",
      "a scatterplot to show the correlation between the two variables.  From the scatterplot it looks like\n",
      "there is not significant correlation\n"
     ]
    },
    {
     "data": {
      "text/plain": [
       "<Figure size 432x288 with 0 Axes>"
      ]
     },
     "metadata": {},
     "output_type": "display_data"
    }
   ],
   "source": [
    "today = time.strftime(\"%m/%d/%Y\")\n",
    "x_values = raw_data_df['Latitude']\n",
    "y_values = raw_data_df['Humidity']\n",
    "plt.scatter(x_values,y_values)\n",
    "plt.xlabel('Latitude')\n",
    "plt.ylabel('Humidity(%)')\n",
    "plt.title(f'Humidity(%) vs Latitude ({today})')\n",
    "plt.show()\n",
    "plt.savefig(\"../output_data/Fig2.png\")\n",
    "\n",
    "print(\"This code is assigning latitude to the x-values and humidity to the y-values and plotting\")\n",
    "print(\"a scatterplot to show the correlation between the two variables.  From the scatterplot it looks like\")\n",
    "print(\"there is not significant correlation\")"
   ]
  },
  {
   "cell_type": "markdown",
   "metadata": {},
   "source": [
    "### Latitude vs. Cloudiness Plot"
   ]
  },
  {
   "cell_type": "code",
   "execution_count": 30,
   "metadata": {},
   "outputs": [
    {
     "data": {
      "image/png": "[encoded data removed]",
      "text/plain": [
       "<Figure size 432x288 with 1 Axes>"
      ]
     },
     "metadata": {
      "needs_background": "light"
     },
     "output_type": "display_data"
    },
    {
     "name": "stdout",
     "output_type": "stream",
     "text": [
      "This code is assigning latitude to the x-values and cloudiness to the y-values and plotting\n",
      "a scatterplot to show the correlation between the two variables.  From the scatterplot it looks like\n",
      "there is not a significant correlation as the graph is evenly scattered.\n"
     ]
    },
    {
     "data": {
      "text/plain": [
       "<Figure size 432x288 with 0 Axes>"
      ]
     },
     "metadata": {},
     "output_type": "display_data"
    }
   ],
   "source": [
    "today = time.strftime(\"%m/%d/%Y\")\n",
    "x_values = raw_data_df['Latitude']\n",
    "y_values = raw_data_df['Cloudiness']\n",
    "plt.scatter(x_values,y_values)\n",
    "plt.xlabel('Latitude')\n",
    "plt.ylabel('Cloudiness(%)')\n",
    "plt.title(f'Cloudiness(%) vs Latitude ({today})')\n",
    "plt.show()\n",
    "plt.savefig(\"../output_data/Fig3.png\")\n",
    "\n",
    "print(\"This code is assigning latitude to the x-values and cloudiness to the y-values and plotting\")\n",
    "print(\"a scatterplot to show the correlation between the two variables.  From the scatterplot it looks like\")\n",
    "print(\"there is not a significant correlation as the graph is evenly scattered.\")"
   ]
  },
  {
   "cell_type": "markdown",
   "metadata": {},
   "source": [
    "### Latitude vs. Wind Speed Plot"
   ]
  },
  {
   "cell_type": "code",
   "execution_count": 31,
   "metadata": {},
   "outputs": [
    {
     "data": {
      "image/png": "[encoded data removed]",
      "text/plain": [
       "<Figure size 432x288 with 1 Axes>"
      ]
     },
     "metadata": {
      "needs_background": "light"
     },
     "output_type": "display_data"
    },
    {
     "name": "stdout",
     "output_type": "stream",
     "text": [
      "This code is assigning latitude to the x-values and wind speed to the y-values and plotting\n",
      "a scatterplot to show the correlation between the two variables.  From the scatterplot it looks like\n",
      "there is not a significant correlation.\n"
     ]
    },
    {
     "data": {
      "text/plain": [
       "<Figure size 432x288 with 0 Axes>"
      ]
     },
     "metadata": {},
     "output_type": "display_data"
    }
   ],
   "source": [
    "today = time.strftime(\"%m/%d/%Y\")\n",
    "x_values = raw_data_df['Latitude']\n",
    "y_values = raw_data_df['Wind Speed']\n",
    "plt.scatter(x_values,y_values)\n",
    "plt.xlabel('Latitude')\n",
    "plt.ylabel('Wind Speed(MPH)')\n",
    "plt.title(f'Cloudiness(MPH) vs Latitude ({today})')\n",
    "plt.show()\n",
    "plt.savefig(\"../output_data/Fig4.png\")\n",
    "\n",
    "print(\"This code is assigning latitude to the x-values and wind speed to the y-values and plotting\")\n",
    "print(\"a scatterplot to show the correlation between the two variables.  From the scatterplot it looks like\")\n",
    "print(\"there is not a significant correlation.\")"
   ]
  },
  {
   "cell_type": "markdown",
   "metadata": {},
   "source": [
    "## Linear Regression"
   ]
  },
  {
   "cell_type": "markdown",
   "metadata": {},
   "source": [
    "### Write linear regression plot function (optional)"
   ]
  },
  {
   "cell_type": "code",
   "execution_count": null,
   "metadata": {},
   "outputs": [],
   "source": []
  },
  {
   "cell_type": "markdown",
   "metadata": {},
   "source": [
    "###  Northern Hemisphere - Max Temp vs. Latitude Linear Regression"
   ]
  },
  {
   "cell_type": "code",
   "execution_count": 39,
   "metadata": {},
   "outputs": [
    {
     "name": "stdout",
     "output_type": "stream",
     "text": [
      "Regression line equation is: y = -1.01x + 96.69\n"
     ]
    },
    {
     "data": {
      "image/png": "[encoded data removed]",
      "text/plain": [
       "<Figure size 432x288 with 1 Axes>"
      ]
     },
     "metadata": {
      "needs_background": "light"
     },
     "output_type": "display_data"
    },
    {
     "name": "stdout",
     "output_type": "stream",
     "text": [
      "This scatterplot graphs the relationship between max temp and latitude of a city in the northern hemisphere.\n",
      "It is evident that there is a negative correlation, for every one unit drop in latitude, there is a 1.01 degrees (F)\n",
      "drop in max temp.\n"
     ]
    },
    {
     "data": {
      "text/plain": [
       "<Figure size 432x288 with 0 Axes>"
      ]
     },
     "metadata": {},
     "output_type": "display_data"
    }
   ],
   "source": [
    "# determine what is norther and southern\n",
    "# Create Northern and Southern Hemisphere DataFrames\n",
    "northern_df = raw_data_df.loc[pd.to_numeric(raw_data_df[\"Latitude\"]).astype(float) > 0, :]\n",
    "southern_df = raw_data_df.loc[pd.to_numeric(raw_data_df[\"Latitude\"]).astype(float) < 0, :]\n",
    "\n",
    "x_values = pd.to_numeric(northern_df['Latitude']).astype(float)\n",
    "y_values = pd.to_numeric(northern_df['Max Temperature']).astype(float)\n",
    "(slope, intercept, rvalue, pvalue, stderr) = linregress(x_values, y_values)\n",
    "regress_values = x_values * slope + intercept\n",
    "line_eq = \"y = \" + str(round(slope,2)) + \"x + \" + str(round(intercept,2))\n",
    "print(f\"Regression line equation is: {line_eq}\")\n",
    "plt.scatter(x_values,y_values)\n",
    "plt.plot(x_values,regress_values,\"r-\")\n",
    "plt.annotate(line_eq,(5,10),fontsize=10,color=\"green\")\n",
    "plt.xlabel('Latitude')\n",
    "plt.ylabel('Max Temperature(F)')\n",
    "plt.title('Northern Hemisphere: Max Temp(F) vs. Latitude')\n",
    "plt.show()\n",
    "plt.savefig(\"../output_data/Fig5.png\")\n",
    "\n",
    "print(\"This scatterplot graphs the relationship between max temp and latitude of a city in the northern hemisphere.\")\n",
    "print(\"It is evident that there is a negative correlation, for every one unit drop in latitude, there is a 1.01 degrees (F)\")\n",
    "print(\"drop in max temp.\")"
   ]
  },
  {
   "cell_type": "markdown",
   "metadata": {},
   "source": [
    "###  Southern Hemisphere - Max Temp vs. Latitude Linear Regression"
   ]
  },
  {
   "cell_type": "code",
   "execution_count": 40,
   "metadata": {},
   "outputs": [
    {
     "name": "stdout",
     "output_type": "stream",
     "text": [
      "Regression line equation is: y = 0.6x + 85.89\n"
     ]
    },
    {
     "data": {
      "image/png": "[encoded data removed]",
      "text/plain": [
       "<Figure size 432x288 with 1 Axes>"
      ]
     },
     "metadata": {
      "needs_background": "light"
     },
     "output_type": "display_data"
    },
    {
     "name": "stdout",
     "output_type": "stream",
     "text": [
      "This scatterplot graphs the relationship between max temp and latitude of a city in the Southern hemisphere.\n",
      "It is evident that there is a positive correlation, for every one unit increase in latitude, there is a 0.6 degrees (F)\n",
      "increase in max temp.\n"
     ]
    },
    {
     "data": {
      "text/plain": [
       "<Figure size 432x288 with 0 Axes>"
      ]
     },
     "metadata": {},
     "output_type": "display_data"
    }
   ],
   "source": [
    "x_values = pd.to_numeric(southern_df['Latitude']).astype(float)\n",
    "y_values = pd.to_numeric(southern_df['Max Temperature']).astype(float)\n",
    "(slope, intercept, rvalue, pvalue, stderr) = linregress(x_values, y_values)\n",
    "regress_values = x_values * slope + intercept\n",
    "line_eq = \"y = \" + str(round(slope,2)) + \"x + \" + str(round(intercept,2))\n",
    "print(f\"Regression line equation is: {line_eq}\")\n",
    "plt.scatter(x_values,y_values)\n",
    "plt.plot(x_values,regress_values,\"r-\")\n",
    "plt.annotate(line_eq,(5,10),fontsize=10,color=\"green\")\n",
    "plt.xlabel('Latitude')\n",
    "plt.ylabel('Max Temperature(F)')\n",
    "plt.title('Southern Hemisphere: Max Temp(F) vs. Latitude')\n",
    "plt.show()\n",
    "plt.savefig(\"../output_data/Fig6.png\")\n",
    "\n",
    "print(\"This scatterplot graphs the relationship between max temp and latitude of a city in the Southern hemisphere.\")\n",
    "print(\"It is evident that there is a positive correlation, for every one unit increase in latitude, there is a 0.6 degrees (F)\")\n",
    "print(\"increase in max temp.\")"
   ]
  },
  {
   "cell_type": "markdown",
   "metadata": {},
   "source": [
    "###  Northern Hemisphere - Humidity (%) vs. Latitude Linear Regression"
   ]
  },
  {
   "cell_type": "code",
   "execution_count": 42,
   "metadata": {},
   "outputs": [
    {
     "name": "stdout",
     "output_type": "stream",
     "text": [
      "Regression line equation is: y = 0.3x + 60.39\n"
     ]
    },
    {
     "data": {
      "image/png": "[encoded data removed]",
      "text/plain": [
       "<Figure size 432x288 with 1 Axes>"
      ]
     },
     "metadata": {
      "needs_background": "light"
     },
     "output_type": "display_data"
    },
    {
     "name": "stdout",
     "output_type": "stream",
     "text": [
      "This scatterplot graphs the relationship between humidity and latitude of a city in the Northern hemisphere.\n",
      "There is a positive correlation, for every one unit increase in latitude, there is a 0.3 unit\n",
      "increase in humidity.\n"
     ]
    },
    {
     "data": {
      "text/plain": [
       "<Figure size 432x288 with 0 Axes>"
      ]
     },
     "metadata": {},
     "output_type": "display_data"
    }
   ],
   "source": [
    "x_values = pd.to_numeric(northern_df['Latitude']).astype(float)\n",
    "y_values = pd.to_numeric(northern_df['Humidity']).astype(float)\n",
    "(slope, intercept, rvalue, pvalue, stderr) = linregress(x_values, y_values)\n",
    "regress_values = x_values * slope + intercept\n",
    "line_eq = \"y = \" + str(round(slope,2)) + \"x + \" + str(round(intercept,2))\n",
    "print(f\"Regression line equation is: {line_eq}\")\n",
    "plt.scatter(x_values,y_values)\n",
    "plt.plot(x_values,regress_values,\"r-\")\n",
    "plt.annotate(line_eq,(5,10),fontsize=10,color=\"green\")\n",
    "plt.xlabel('Latitude')\n",
    "plt.ylabel('Humidity(%))')\n",
    "plt.title('Northern Hemisphere: Humidity(%) vs. Latitude')\n",
    "plt.show()\n",
    "plt.savefig(\"../output_data/Fig7.png\")\n",
    "\n",
    "print(\"This scatterplot graphs the relationship between humidity and latitude of a city in the Northern hemisphere.\")\n",
    "print(\"There is a positive correlation, for every one unit increase in latitude, there is a 0.3 unit\")\n",
    "print(\"increase in humidity.\")"
   ]
  },
  {
   "cell_type": "markdown",
   "metadata": {},
   "source": [
    "###  Southern Hemisphere - Humidity (%) vs. Latitude Linear Regression"
   ]
  },
  {
   "cell_type": "code",
   "execution_count": 22,
   "metadata": {},
   "outputs": [
    {
     "name": "stdout",
     "output_type": "stream",
     "text": [
      "Regression line equation is: y = 0.03x + 66.62\n"
     ]
    },
    {
     "data": {
      "image/png": "[encoded data removed]",
      "text/plain": [
       "<Figure size 432x288 with 1 Axes>"
      ]
     },
     "metadata": {
      "needs_background": "light"
     },
     "output_type": "display_data"
    }
   ],
   "source": [
    "x_values = pd.to_numeric(southern_df['Latitude']).astype(float)\n",
    "y_values = pd.to_numeric(southern_df['Humidity']).astype(float)\n",
    "(slope, intercept, rvalue, pvalue, stderr) = linregress(x_values, y_values)\n",
    "regress_values = x_values * slope + intercept\n",
    "line_eq = \"y = \" + str(round(slope,2)) + \"x + \" + str(round(intercept,2))\n",
    "print(f\"Regression line equation is: {line_eq}\")\n",
    "plt.scatter(x_values,y_values)\n",
    "plt.plot(x_values,regress_values,\"r-\")\n",
    "plt.annotate(line_eq,(5,10),fontsize=10,color=\"green\")\n",
    "plt.xlabel('Latitude')\n",
    "plt.ylabel('Humidity(%))')\n",
    "plt.title('Southern Hemisphere: Humidity(%)) vs. Latitude')\n",
    "plt.show()\n",
    "plt.savefig(\"../output_data/Fig8.png\")\n",
    "\n",
    "print(\"This scatterplot graphs the relationship between humidity and latitude of a city in the Southern hemisphere.\")\n",
    "print(\"There is no strong correlation, for every one unit increase in latitude, there is a 0.03 unit\")\n",
    "print(\"increase in humidity which is not a convincing correlation.\")"
   ]
  },
  {
   "cell_type": "markdown",
   "metadata": {},
   "source": [
    "###  Northern Hemisphere - Cloudiness (%) vs. Latitude Linear Regression"
   ]
  },
  {
   "cell_type": "code",
   "execution_count": 43,
   "metadata": {},
   "outputs": [
    {
     "name": "stdout",
     "output_type": "stream",
     "text": [
      "Regression line equation is: y = 0.35x + 37.9\n"
     ]
    },
    {
     "data": {
      "image/png": "[encoded data removed]",
      "text/plain": [
       "<Figure size 432x288 with 1 Axes>"
      ]
     },
     "metadata": {
      "needs_background": "light"
     },
     "output_type": "display_data"
    },
    {
     "name": "stdout",
     "output_type": "stream",
     "text": [
      "This scatterplot graphs the relationship between cloudiness and latitude of a city in the Northern hemisphere.\n",
      "There is no strong correlation, for every one unit increase in latitude, there is a 0.35 unit\n",
      "increase in cloudiness.\n"
     ]
    },
    {
     "data": {
      "text/plain": [
       "<Figure size 432x288 with 0 Axes>"
      ]
     },
     "metadata": {},
     "output_type": "display_data"
    }
   ],
   "source": [
    "x_values = pd.to_numeric(northern_df['Latitude']).astype(float)\n",
    "y_values = pd.to_numeric(northern_df['Cloudiness']).astype(float)\n",
    "(slope, intercept, rvalue, pvalue, stderr) = linregress(x_values, y_values)\n",
    "regress_values = x_values * slope + intercept\n",
    "line_eq = \"y = \" + str(round(slope,2)) + \"x + \" + str(round(intercept,2))\n",
    "print(f\"Regression line equation is: {line_eq}\")\n",
    "plt.scatter(x_values,y_values)\n",
    "plt.plot(x_values,regress_values,\"r-\")\n",
    "plt.annotate(line_eq,(5,10),fontsize=10,color=\"green\")\n",
    "plt.xlabel('Latitude')\n",
    "plt.ylabel('Cloudiness(%))')\n",
    "plt.title('Northern Hemisphere: Cloudiness(%) vs. Latitude')\n",
    "plt.show()\n",
    "plt.savefig(\"../output_data/Fig9.png\")\n",
    "\n",
    "print(\"This scatterplot graphs the relationship between cloudiness and latitude of a city in the Northern hemisphere.\")\n",
    "print(\"There is no strong correlation, for every one unit increase in latitude, there is a 0.35 unit\")\n",
    "print(\"increase in cloudiness.\")"
   ]
  },
  {
   "cell_type": "markdown",
   "metadata": {},
   "source": [
    "###  Southern Hemisphere - Cloudiness (%) vs. Latitude Linear Regression"
   ]
  },
  {
   "cell_type": "code",
   "execution_count": 44,
   "metadata": {},
   "outputs": [
    {
     "name": "stdout",
     "output_type": "stream",
     "text": [
      "Regression line equation is: y = 0.28x + 54.24\n"
     ]
    },
    {
     "data": {
      "image/png": "[encoded data removed]",
      "text/plain": [
       "<Figure size 432x288 with 1 Axes>"
      ]
     },
     "metadata": {
      "needs_background": "light"
     },
     "output_type": "display_data"
    },
    {
     "name": "stdout",
     "output_type": "stream",
     "text": [
      "This scatterplot graphs the relationship between cloudiness and latitude of a city in the Southern hemisphere.\n",
      "There is no strong correlation, for every one unit increase in latitude, there is a 0.28 unit\n",
      "increase in cloudiness.\n"
     ]
    },
    {
     "data": {
      "text/plain": [
       "<Figure size 432x288 with 0 Axes>"
      ]
     },
     "metadata": {},
     "output_type": "display_data"
    }
   ],
   "source": [
    "x_values = pd.to_numeric(southern_df['Latitude']).astype(float)\n",
    "y_values = pd.to_numeric(southern_df['Cloudiness']).astype(float)\n",
    "(slope, intercept, rvalue, pvalue, stderr) = linregress(x_values, y_values)\n",
    "regress_values = x_values * slope + intercept\n",
    "line_eq = \"y = \" + str(round(slope,2)) + \"x + \" + str(round(intercept,2))\n",
    "print(f\"Regression line equation is: {line_eq}\")\n",
    "plt.scatter(x_values,y_values)\n",
    "plt.plot(x_values,regress_values,\"r-\")\n",
    "plt.annotate(line_eq,(5,10),fontsize=10,color=\"green\")\n",
    "plt.xlabel('Latitude')\n",
    "plt.ylabel('Cloudiness(%))')\n",
    "plt.title('Southern Hemisphere: Cloudiness(%) vs. Latitude')\n",
    "plt.show()\n",
    "plt.savefig(\"../output_data/Fig10.png\")\n",
    "\n",
    "print(\"This scatterplot graphs the relationship between cloudiness and latitude of a city in the Southern hemisphere.\")\n",
    "print(\"There is no strong correlation, for every one unit increase in latitude, there is a 0.28 unit\")\n",
    "print(\"increase in cloudiness.\")"
   ]
  },
  {
   "cell_type": "markdown",
   "metadata": {},
   "source": [
    "###  Northern Hemisphere - Wind Speed (mph) vs. Latitude Linear Regression"
   ]
  },
  {
   "cell_type": "code",
   "execution_count": 45,
   "metadata": {},
   "outputs": [
    {
     "name": "stdout",
     "output_type": "stream",
     "text": [
      "Regression line equation is: y = 0.05x + 5.96\n"
     ]
    },
    {
     "data": {
      "image/png": "[encoded data removed]",
      "text/plain": [
       "<Figure size 432x288 with 1 Axes>"
      ]
     },
     "metadata": {
      "needs_background": "light"
     },
     "output_type": "display_data"
    },
    {
     "name": "stdout",
     "output_type": "stream",
     "text": [
      "This scatterplot graphs the relationship between wind speed and latitude of a city in the Northern hemisphere.\n",
      "There is no strong correlation, for every one unit increase in latitude, there is a 0.05 unit\n",
      "increase in wind speed.\n"
     ]
    },
    {
     "data": {
      "text/plain": [
       "<Figure size 432x288 with 0 Axes>"
      ]
     },
     "metadata": {},
     "output_type": "display_data"
    }
   ],
   "source": [
    "x_values = pd.to_numeric(northern_df['Latitude']).astype(float)\n",
    "y_values = pd.to_numeric(northern_df['Wind Speed']).astype(float)\n",
    "(slope, intercept, rvalue, pvalue, stderr) = linregress(x_values, y_values)\n",
    "regress_values = x_values * slope + intercept\n",
    "line_eq = \"y = \" + str(round(slope,2)) + \"x + \" + str(round(intercept,2))\n",
    "print(f\"Regression line equation is: {line_eq}\")\n",
    "plt.scatter(x_values,y_values)\n",
    "plt.plot(x_values,regress_values,\"r-\")\n",
    "plt.annotate(line_eq,(5,10),fontsize=10,color=\"green\")\n",
    "plt.xlabel('Latitude')\n",
    "plt.ylabel('Wind Speed(MPH)')\n",
    "plt.title('Northern Hemisphere: Wind Speed(MPH) vs. Latitude')\n",
    "plt.show()\n",
    "plt.savefig(\"../output_data/Fig11.png\")\n",
    "\n",
    "print(\"This scatterplot graphs the relationship between wind speed and latitude of a city in the Northern hemisphere.\")\n",
    "print(\"There is no strong correlation, for every one unit increase in latitude, there is a 0.05 unit\")\n",
    "print(\"increase in wind speed.\")"
   ]
  },
  {
   "cell_type": "markdown",
   "metadata": {},
   "source": [
    "###  Southern Hemisphere - Wind Speed (mph) vs. Latitude Linear Regression"
   ]
  },
  {
   "cell_type": "code",
   "execution_count": 46,
   "metadata": {},
   "outputs": [
    {
     "name": "stdout",
     "output_type": "stream",
     "text": [
      "Regression line equation is: y = -0.08x + 7.61\n"
     ]
    },
    {
     "data": {
      "image/png": "[encoded data removed]",
      "text/plain": [
       "<Figure size 432x288 with 1 Axes>"
      ]
     },
     "metadata": {
      "needs_background": "light"
     },
     "output_type": "display_data"
    },
    {
     "name": "stdout",
     "output_type": "stream",
     "text": [
      "This scatterplot graphs the relationship between wind speed and latitude of a city in the Southern hemisphere.\n",
      "There is no strong correlation, for every one unit increase in latitude, there is a -0.08 unit\n",
      "decrease in wind speed.\n"
     ]
    },
    {
     "data": {
      "text/plain": [
       "<Figure size 432x288 with 0 Axes>"
      ]
     },
     "metadata": {},
     "output_type": "display_data"
    }
   ],
   "source": [
    "x_values = pd.to_numeric(southern_df['Latitude']).astype(float)\n",
    "y_values = pd.to_numeric(southern_df['Wind Speed']).astype(float)\n",
    "(slope, intercept, rvalue, pvalue, stderr) = linregress(x_values, y_values)\n",
    "regress_values = x_values * slope + intercept\n",
    "line_eq = \"y = \" + str(round(slope,2)) + \"x + \" + str(round(intercept,2))\n",
    "print(f\"Regression line equation is: {line_eq}\")\n",
    "plt.scatter(x_values,y_values)\n",
    "plt.plot(x_values,regress_values,\"r-\")\n",
    "plt.annotate(line_eq,(5,10),fontsize=10,color=\"green\")\n",
    "plt.xlabel('Latitude')\n",
    "plt.ylabel('Wind Speed(MPH))')\n",
    "plt.title('Southern Hemisphere: Wind Speed MPH(MPH) vs. Latitude')\n",
    "plt.show()\n",
    "plt.savefig(\"../output_data/Fig12.png\")\n",
    "\n",
    "print(\"This scatterplot graphs the relationship between wind speed and latitude of a city in the Southern hemisphere.\")\n",
    "print(\"There is no strong correlation, for every one unit increase in latitude, there is a -0.08 unit\")\n",
    "print(\"decrease in wind speed.\")"
   ]
  },
  {
   "cell_type": "code",
   "execution_count": null,
   "metadata": {},
   "outputs": [],
   "source": []
  },
  {
   "cell_type": "code",
   "execution_count": null,
   "metadata": {},
   "outputs": [],
   "source": []
  }
 ],
 "metadata": {
  "anaconda-cloud": {},
  "kernel_info": {
   "name": "python3"
  },
  "kernelspec": {
   "display_name": "Python 3",
   "language": "python",
   "name": "python3"
  },
  "language_info": {
   "codemirror_mode": {
    "name": "ipython",
    "version": 3
   },
   "file_extension": ".py",
   "mimetype": "text/x-python",
   "name": "python",
   "nbconvert_exporter": "python",
   "pygments_lexer": "ipython3",
   "version": "3.6.10"
  },
  "latex_envs": {
   "LaTeX_envs_menu_present": true,
   "autoclose": false,
   "autocomplete": true,
   "bibliofile": "biblio.bib",
   "cite_by": "apalike",
   "current_citInitial": 1,
   "eqLabelWithNumbers": true,
   "eqNumInitial": 1,
   "hotkeys": {
    "equation": "Ctrl-E",
    "itemize": "Ctrl-I"
   },
   "labels_anchors": false,
   "latex_user_defs": false,
   "report_style_numbering": false,
   "user_envs_cfg": false
  },
  "nteract": {
   "version": "0.12.3"
  },
  "toc": {
   "base_numbering": 1,
   "nav_menu": {},
   "number_sections": true,
   "sideBar": true,
   "skip_h1_title": false,
   "title_cell": "Table of Contents",
   "title_sidebar": "Contents",
   "toc_cell": false,
   "toc_position": {},
   "toc_section_display": true,
   "toc_window_display": false
  },
  "varInspector": {
   "cols": {
    "lenName": 16,
    "lenType": 16,
    "lenVar": 40
   },
   "kernels_config": {
    "python": {
     "delete_cmd_postfix": "",
     "delete_cmd_prefix": "del ",
     "library": "var_list.py",
     "varRefreshCmd": "print(var_dic_list())"
    },
    "r": {
     "delete_cmd_postfix": ") ",
     "delete_cmd_prefix": "rm(",
     "library": "var_list.r",
     "varRefreshCmd": "cat(var_dic_list()) "
    }
   },
   "types_to_exclude": [
    "module",
    "function",
    "builtin_function_or_method",
    "instance",
    "_Feature"
   ],
   "window_display": false
  }
 },
 "nbformat": 4,
 "nbformat_minor": 2
}
